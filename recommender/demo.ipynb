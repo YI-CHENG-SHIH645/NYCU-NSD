{
 "cells": [
  {
   "cell_type": "code",
   "execution_count": 1,
   "id": "a2877f3d",
   "metadata": {},
   "outputs": [],
   "source": [
    "import recommender as rs\n",
    "from surprise import KNNBasic, SVD\n",
    "from surprise import Dataset\n",
    "from surprise import Reader\n",
    "from surprise import accuracy\n",
    "from surprise.model_selection import cross_validate, PredefinedKFold\n",
    "import pandas as pd"
   ]
  },
  {
   "cell_type": "code",
   "execution_count": 2,
   "id": "ec074732",
   "metadata": {},
   "outputs": [],
   "source": [
    "train_df = pd.read_csv(\"data/Book_reviews/Book_reviews/BX-Book-Ratings-train.csv\", delimiter=\";\", header=0)\n",
    "test_df = pd.read_csv(\"data/Book_reviews/Book_reviews/BX-Book-Ratings-test.csv\", delimiter=\";\", header=0)"
   ]
  },
  {
   "cell_type": "code",
   "execution_count": 3,
   "id": "3ddd20c7",
   "metadata": {},
   "outputs": [
    {
     "name": "stdout",
     "output_type": "stream",
     "text": [
      "RMSE: 0.9508\n"
     ]
    }
   ],
   "source": [
    "folds_files = [(\"data/data/u1.base\", \"data/data/u1.test\")]\n",
    "data = Dataset.load_from_folds(folds_files, reader=Reader(rating_scale=(1, 6), sep='\\t'))\n",
    "\n",
    "# algo = KNNBasic(sim_options={'name': 'cosine', 'user_based': True})\n",
    "algo = SVD()\n",
    "pkf = PredefinedKFold()\n",
    "for trainset, testset in pkf.split(data):\n",
    "    algo.fit(trainset)\n",
    "    predictions = algo.test(testset)\n",
    "    surprise_user_based = accuracy.rmse(predictions, verbose=True)"
   ]
  },
  {
   "cell_type": "code",
   "execution_count": 4,
   "id": "fc34eb5d",
   "metadata": {},
   "outputs": [
    {
     "name": "stdout",
     "output_type": "stream",
     "text": [
      "Computing the cosine similarity matrix...\n",
      "Done computing similarity matrix.\n",
      "RMSE: 1.0491\n"
     ]
    }
   ],
   "source": [
    "folds_files = [(\"data/data/u1.base\", \"data/data/u1.test\")]\n",
    "data = Dataset.load_from_folds(folds_files, reader=Reader(rating_scale=(1, 6), sep='\\t'))\n",
    "\n",
    "algo = KNNBasic(sim_options={'name': 'cosine', 'user_based': False})\n",
    "pkf = PredefinedKFold()\n",
    "for trainset, testset in pkf.split(data):\n",
    "    algo.fit(trainset)\n",
    "    predictions = algo.test(testset)\n",
    "    surprise_item_based = accuracy.rmse(predictions, verbose=True)"
   ]
  },
  {
   "cell_type": "code",
   "execution_count": 5,
   "id": "1603ddcd",
   "metadata": {
    "scrolled": true
   },
   "outputs": [
    {
     "name": "stdout",
     "output_type": "stream",
     "text": [
      "read as a vector of triplets (train) ... 0.016558 sec\n",
      "Init SP matrix (alloc & set) ... 0.000719 sec\n",
      "\n",
      "# readers (rows m) : 943 , # books (cols n) : 1650\n",
      "# non zero element: 80000\n",
      "density = 0.0514155\n",
      "\n",
      "read as a vector of triplets (test) ... 0.003379 sec\n",
      "length of test data : 20000\n",
      "calculate weighted sum of top k item vectors ... 0.143784 sec\n",
      "# non-zero score recommendation items : 1515\n",
      "top n recommendation items for the given user : result_n=1515\n",
      "272 : 4.26498\n",
      "100 : 4.03409\n",
      "275 : 3.94558\n",
      "258 : 3.88044\n",
      "10 : 3.81758\n",
      "242 : 3.81579\n",
      "14 : 3.777\n",
      "273 : 3.60222\n",
      "274 : 3.52159\n",
      "255 : 3.26698\n",
      "test time ... 21.2393 sec\n",
      "avg ratio : 0.025\n",
      "rmse : 1.06021\n",
      "baseline rmse : 1.15368\n",
      "test time ... 4.67114 sec\n",
      "avg ratio : 0.0016\n",
      "rmse : 1.02243\n",
      "baseline rmse : 1.15368\n",
      "test time ... 27.6183 sec\n",
      "avg ratio : 0.02335\n",
      "rmse : 1.01612\n",
      "baseline rmse : 1.15368\n",
      "test time ... 3.77429 sec\n",
      "avg ratio : 0.0016\n",
      "rmse : 1.01082\n",
      "baseline rmse : 1.15368\n"
     ]
    }
   ],
   "source": [
    "input_ = rs.InputReader(\"data/data/u1.base\", \"data/data/u1.test\")\n",
    "input_.parse(\"train\", \"\\t\", False, False)\n",
    "input_.parse(\"test\", \"\\t\", False, False)\n",
    "\n",
    "cf = rs.CF(input_)\n",
    "recommendation = cf.recommend(\"user\", \"1\", \"user-based\", k=40,\n",
    "                              simi_th=0, n=10, keep_nonzero_topk=True)\n",
    "user_based_rmse              = cf.user_based_rmse(-1, 40, 0, False) #算全部 \n",
    "user_based_rmse_keep_nonzero = cf.user_based_rmse(-1, 40, 0, True)  #不要算全部\n",
    "item_based_rmse              = cf.item_based_rmse(-1, 40, 0, False) #算全部\n",
    "item_based_rmse_keep_nonzero = cf.item_based_rmse(-1, 40, 0, True)  #不要算全部"
   ]
  },
  {
   "cell_type": "code",
   "execution_count": 6,
   "id": "d6b7db05",
   "metadata": {},
   "outputs": [
    {
     "data": {
      "text/html": [
       "<div>\n",
       "<style scoped>\n",
       "    .dataframe tbody tr th:only-of-type {\n",
       "        vertical-align: middle;\n",
       "    }\n",
       "\n",
       "    .dataframe tbody tr th {\n",
       "        vertical-align: top;\n",
       "    }\n",
       "\n",
       "    .dataframe thead th {\n",
       "        text-align: right;\n",
       "    }\n",
       "</style>\n",
       "<table border=\"1\" class=\"dataframe\">\n",
       "  <thead>\n",
       "    <tr style=\"text-align: right;\">\n",
       "      <th></th>\n",
       "      <th>all_sim</th>\n",
       "      <th>only-nonzero_sim</th>\n",
       "      <th>surprise</th>\n",
       "    </tr>\n",
       "  </thead>\n",
       "  <tbody>\n",
       "    <tr>\n",
       "      <th>user-based</th>\n",
       "      <td>1.0602</td>\n",
       "      <td>1.0224</td>\n",
       "      <td>0.9508</td>\n",
       "    </tr>\n",
       "    <tr>\n",
       "      <th>item-based</th>\n",
       "      <td>1.0161</td>\n",
       "      <td>1.0108</td>\n",
       "      <td>1.0491</td>\n",
       "    </tr>\n",
       "  </tbody>\n",
       "</table>\n",
       "</div>"
      ],
      "text/plain": [
       "            all_sim  only-nonzero_sim  surprise\n",
       "user-based   1.0602            1.0224    0.9508\n",
       "item-based   1.0161            1.0108    1.0491"
      ]
     },
     "execution_count": 6,
     "metadata": {},
     "output_type": "execute_result"
    }
   ],
   "source": [
    "pd.DataFrame([[user_based_rmse, user_based_rmse_keep_nonzero, surprise_user_based],\n",
    "              [item_based_rmse, item_based_rmse_keep_nonzero, surprise_item_based]],\n",
    "             index=['user-based', 'item-based'], columns=['all_sim', 'only-nonzero_sim', 'surprise']).round(4)"
   ]
  },
  {
   "cell_type": "code",
   "execution_count": 7,
   "id": "8fe1ddb3",
   "metadata": {},
   "outputs": [
    {
     "name": "stdout",
     "output_type": "stream",
     "text": [
      "read as a vector of triplets (train) ... 0.018295 sec\n",
      "Init SP matrix (alloc & set) ... 0.000826 sec\n",
      "\n",
      "# readers (rows m) : 943 , # books (cols n) : 1650\n",
      "# non zero element: 80000\n",
      "density = 0.0514155\n",
      "\n",
      "read as a vector of triplets (test) ... 0.003935 sec\n",
      "length of test data : 20000\n",
      "calculate weighted sum of top k item vectors ... 0.008137 sec\n",
      "# non-zero score recommendation items : 1515\n",
      "top n recommendation items for the given user : result_n=1515\n",
      "272 : 4.24212\n",
      "100 : 4.11221\n",
      "275 : 3.96882\n",
      "242 : 3.94684\n",
      "14 : 3.87806\n",
      "258 : 3.85336\n",
      "10 : 3.85014\n",
      "273 : 3.50525\n",
      "274 : 3.47559\n",
      "255 : 3.29722\n"
     ]
    }
   ],
   "source": [
    "input_ = rs.InputReader(\"data/data/u1.base\", \"data/data/u1.test\")\n",
    "input_.parse(\"train\", \"\\t\", False, False)\n",
    "input_.parse(\"test\", \"\\t\", False, False)\n",
    "\n",
    "cf = rs.CF(input_)\n",
    "recommendation = cf.recommend(\"user\", \"1\", \"user-based\", -1, 0, 10, False)"
   ]
  },
  {
   "cell_type": "code",
   "execution_count": 8,
   "id": "ae4b1fd3",
   "metadata": {},
   "outputs": [
    {
     "name": "stdout",
     "output_type": "stream",
     "text": [
      "calculate weighted sum of top k user vectors ... 0.007318 sec\n",
      "# non-zero score recommendation items : 560\n",
      "top n recommendation items for the given user : result_n=560\n",
      "12 : 4.33329\n",
      "9 : 4.31992\n",
      "10 : 4.24414\n",
      "14 : 4.15256\n",
      "4 : 4.09586\n",
      "7 : 4.04158\n",
      "8 : 3.9044\n",
      "11 : 3.53397\n",
      "5 : 3.23545\n",
      "3 : 2.96947\n"
     ]
    }
   ],
   "source": [
    "recommendation = cf.recommend(\"item\", \"1\", \"item-based\", -1, 0, 10, False)"
   ]
  },
  {
   "cell_type": "code",
   "execution_count": null,
   "id": "97b64418",
   "metadata": {},
   "outputs": [],
   "source": []
  },
  {
   "cell_type": "code",
   "execution_count": 9,
   "id": "6eb58ff3",
   "metadata": {},
   "outputs": [
    {
     "name": "stdout",
     "output_type": "stream",
     "text": [
      "RMSE: 3.5068\n"
     ]
    }
   ],
   "source": [
    "folds_files = [(\"data/Book_reviews/Book_reviews/BX-Book-Ratings-train.csv\",\n",
    "                \"data/Book_reviews/Book_reviews/BX-Book-Ratings-test.csv\")]\n",
    "data = Dataset.load_from_folds(folds_files, reader=Reader(rating_scale=(0, 11), sep=';', skip_lines=1))\n",
    "\n",
    "# algo = KNNBasic(sim_options={'name': 'cosine', 'user_based': True})\n",
    "algo = SVD()\n",
    "pkf = PredefinedKFold()\n",
    "for trainset, testset in pkf.split(data):\n",
    "    algo.fit(trainset)\n",
    "    predictions = algo.test(testset)\n",
    "    surprise_user_based = accuracy.rmse(predictions, verbose=True)"
   ]
  },
  {
   "cell_type": "code",
   "execution_count": 10,
   "id": "2300d1d6",
   "metadata": {},
   "outputs": [
    {
     "name": "stdout",
     "output_type": "stream",
     "text": [
      "read as a vector of triplets (train) ... 0.442058 sec\n",
      "Init SP matrix (alloc & set) ... 0.021199 sec\n",
      "\n",
      "# readers (rows m) : 99285 , # books (cols n) : 320139\n",
      "# non zero element: 1034802\n",
      "density = 0.000601549\n",
      "\n",
      "read as a vector of triplets (test) ... 0.024665 sec\n",
      "length of test data : 114978\n"
     ]
    }
   ],
   "source": [
    "input_ = rs.InputReader(\"data/Book_reviews/Book_reviews/BX-Book-Ratings-train.csv\",\n",
    "                        \"data/Book_reviews/Book_reviews/BX-Book-Ratings-test.csv\")\n",
    "input_.parse(\"train\", \";\", True, True)\n",
    "input_.parse(\"test\", \";\", True, True)\n",
    "\n",
    "cf = rs.CF(input_)"
   ]
  },
  {
   "cell_type": "code",
   "execution_count": 11,
   "id": "167efbfb",
   "metadata": {
    "scrolled": true
   },
   "outputs": [
    {
     "name": "stdout",
     "output_type": "stream",
     "text": [
      "test time ... 84.8664 sec\n",
      "avg ratio : 0.313825\n",
      "rmse : 4.16334\n",
      "baseline rmse : 3.86146\n"
     ]
    }
   ],
   "source": [
    "user_based_rmse_keep_nonzero = cf.user_based_rmse(-1, 40, 0, True)  #不要算全部"
   ]
  },
  {
   "cell_type": "code",
   "execution_count": 12,
   "id": "2da641a1",
   "metadata": {},
   "outputs": [
    {
     "name": "stdout",
     "output_type": "stream",
     "text": [
      "test time ... 142.018 sec\n",
      "avg ratio : 0.313825\n",
      "rmse : 3.70015\n",
      "baseline rmse : 3.86146\n"
     ]
    }
   ],
   "source": [
    "item_based_rmse_keep_nonzero = cf.item_based_rmse(-1, 40, 0, True)  #不要算全部"
   ]
  },
  {
   "cell_type": "code",
   "execution_count": 13,
   "id": "d1626205",
   "metadata": {},
   "outputs": [
    {
     "name": "stdout",
     "output_type": "stream",
     "text": [
      "test time ... 84.5335 sec\n",
      "avg ratio : 0.313825\n",
      "rmse : 4.16304\n",
      "baseline rmse : 3.86146\n"
     ]
    }
   ],
   "source": [
    "user_based_rmse              = cf.user_based_rmse(-1, -1, 0, True)"
   ]
  },
  {
   "cell_type": "code",
   "execution_count": 14,
   "id": "86bfdef2",
   "metadata": {
    "scrolled": true
   },
   "outputs": [
    {
     "name": "stdout",
     "output_type": "stream",
     "text": [
      "test time ... 141.065 sec\n",
      "avg ratio : 0.313825\n",
      "rmse : 3.69594\n",
      "baseline rmse : 3.86146\n"
     ]
    }
   ],
   "source": [
    "item_based_rmse              = cf.item_based_rmse(-1, -1, 0, True)"
   ]
  },
  {
   "cell_type": "code",
   "execution_count": 15,
   "id": "9dd8824d",
   "metadata": {},
   "outputs": [
    {
     "data": {
      "text/html": [
       "<div>\n",
       "<style scoped>\n",
       "    .dataframe tbody tr th:only-of-type {\n",
       "        vertical-align: middle;\n",
       "    }\n",
       "\n",
       "    .dataframe tbody tr th {\n",
       "        vertical-align: top;\n",
       "    }\n",
       "\n",
       "    .dataframe thead th {\n",
       "        text-align: right;\n",
       "    }\n",
       "</style>\n",
       "<table border=\"1\" class=\"dataframe\">\n",
       "  <thead>\n",
       "    <tr style=\"text-align: right;\">\n",
       "      <th></th>\n",
       "      <th>all_sim</th>\n",
       "      <th>only-nonzero_sim</th>\n",
       "    </tr>\n",
       "  </thead>\n",
       "  <tbody>\n",
       "    <tr>\n",
       "      <th>user-based</th>\n",
       "      <td>4.1630</td>\n",
       "      <td>4.1633</td>\n",
       "    </tr>\n",
       "    <tr>\n",
       "      <th>item-based</th>\n",
       "      <td>3.6959</td>\n",
       "      <td>3.7001</td>\n",
       "    </tr>\n",
       "  </tbody>\n",
       "</table>\n",
       "</div>"
      ],
      "text/plain": [
       "            all_sim  only-nonzero_sim\n",
       "user-based   4.1630            4.1633\n",
       "item-based   3.6959            3.7001"
      ]
     },
     "execution_count": 15,
     "metadata": {},
     "output_type": "execute_result"
    }
   ],
   "source": [
    "pd.DataFrame([[user_based_rmse, user_based_rmse_keep_nonzero],\n",
    "              [item_based_rmse, item_based_rmse_keep_nonzero]],\n",
    "             index=['user-based', 'item-based'], columns=['all_sim', 'only-nonzero_sim']).round(4)"
   ]
  },
  {
   "cell_type": "code",
   "execution_count": 16,
   "id": "8066e8c3",
   "metadata": {},
   "outputs": [
    {
     "name": "stdout",
     "output_type": "stream",
     "text": [
      "calculate weighted sum of top k item vectors ... 0.044973 sec\n",
      "# non-zero score recommendation items : 0\n",
      "top n recommendation items for the given user : result_n=0\n"
     ]
    },
    {
     "data": {
      "text/plain": [
       "[]"
      ]
     },
     "execution_count": 16,
     "metadata": {},
     "output_type": "execute_result"
    }
   ],
   "source": [
    "cf.recommend(\"user\", \"1\", \"user-based\", -1, 0, 10, False)"
   ]
  },
  {
   "cell_type": "code",
   "execution_count": 17,
   "id": "f62bac80",
   "metadata": {},
   "outputs": [
    {
     "name": "stdout",
     "output_type": "stream",
     "text": [
      "calculate weighted sum of top k user vectors ... 0.044668 sec\n",
      "# non-zero score recommendation items : 0\n",
      "top n recommendation items for the given user : result_n=0\n"
     ]
    },
    {
     "data": {
      "text/plain": [
       "[]"
      ]
     },
     "execution_count": 17,
     "metadata": {},
     "output_type": "execute_result"
    }
   ],
   "source": [
    "cf.recommend(\"item\", \"1\", \"item-based\", -1, 0, 10, False)"
   ]
  },
  {
   "cell_type": "code",
   "execution_count": null,
   "id": "f1a27b0c",
   "metadata": {},
   "outputs": [],
   "source": []
  },
  {
   "cell_type": "code",
   "execution_count": null,
   "id": "9970b799",
   "metadata": {},
   "outputs": [],
   "source": []
  }
 ],
 "metadata": {
  "kernelspec": {
   "display_name": "Python 3 (ipykernel)",
   "language": "python",
   "name": "python3"
  },
  "language_info": {
   "codemirror_mode": {
    "name": "ipython",
    "version": 3
   },
   "file_extension": ".py",
   "mimetype": "text/x-python",
   "name": "python",
   "nbconvert_exporter": "python",
   "pygments_lexer": "ipython3",
   "version": "3.9.16"
  }
 },
 "nbformat": 4,
 "nbformat_minor": 5
}
